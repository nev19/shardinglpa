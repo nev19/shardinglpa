{
 "cells": [
  {
   "cell_type": "code",
   "execution_count": 1,
   "id": "cfb30906-d237-43fe-807c-3f5dba88f906",
   "metadata": {},
   "outputs": [],
   "source": [
    "import csv"
   ]
  },
  {
   "cell_type": "code",
   "execution_count": 9,
   "id": "173d2ec7-a1d9-4769-86d7-37efac1f4945",
   "metadata": {},
   "outputs": [
    {
     "name": "stdout",
     "output_type": "stream",
     "text": [
      "ALERT: labelChanged flipped from False to True at Run 1, Epoch 20, Iteration 157\n"
     ]
    }
   ],
   "source": [
    "\n",
    "# Track previous labelChanged state for each (run, epoch)\n",
    "state_map = {}\n",
    "first_seen = set()\n",
    "\n",
    "with open(\"iterations_label_change.csv\", mode='r', newline='') as csvfile:\n",
    "    reader = csv.DictReader(csvfile)\n",
    "\n",
    "    for row in reader:\n",
    "        run = int(row[\"run\"])\n",
    "        epoch = int(row[\"epoch\"])\n",
    "        iteration = int(row[\"iteration\"])\n",
    "        label_changed = row[\"labelChanged\"].lower() == \"true\"\n",
    "\n",
    "        key = (run, epoch)\n",
    "\n",
    "        if key not in first_seen:\n",
    "            first_seen.add(key)\n",
    "            state_map[key] = label_changed\n",
    "            continue\n",
    "\n",
    "        prev = state_map[key]\n",
    "        if not prev and label_changed:\n",
    "            print(f\"ALERT: labelChanged flipped from False to True at Run {run}, Epoch {epoch}, Iteration {iteration}\")\n",
    "\n",
    "        state_map[key] = label_changed\n"
   ]
  },
  {
   "cell_type": "code",
   "execution_count": null,
   "id": "06e5b45b-9448-4b14-abe5-789986a6436e",
   "metadata": {},
   "outputs": [],
   "source": []
  }
 ],
 "metadata": {
  "kernelspec": {
   "display_name": "Python 3 (ipykernel)",
   "language": "python",
   "name": "python3"
  },
  "language_info": {
   "codemirror_mode": {
    "name": "ipython",
    "version": 3
   },
   "file_extension": ".py",
   "mimetype": "text/x-python",
   "name": "python",
   "nbconvert_exporter": "python",
   "pygments_lexer": "ipython3",
   "version": "3.9.21"
  }
 },
 "nbformat": 4,
 "nbformat_minor": 5
}
