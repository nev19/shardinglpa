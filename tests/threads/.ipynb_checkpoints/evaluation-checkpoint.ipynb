{
 "cells": [
  {
   "cell_type": "code",
   "execution_count": 6,
   "id": "66e1b963-6fcd-44b9-b23e-eea21d5a5fc3",
   "metadata": {},
   "outputs": [
    {
     "name": "stdout",
     "output_type": "stream",
     "text": [
      "Full threads (odd test IDs):\n",
      "  Avg Baseline Time: 6.267090120238095\n",
      "  Avg New Time: 11.433991245000001\n",
      "  New/Baseline Ratio: 1.824\n",
      "\n",
      "Half threads (even test IDs):\n",
      "  Avg Baseline Time: 6.226671899761905\n",
      "  Avg New Time: 6.859164926904761\n",
      "  New/Baseline Ratio: 1.102\n"
     ]
    }
   ],
   "source": [
    "import pandas as pd\n",
    "\n",
    "# Load the CSV file\n",
    "df = pd.read_csv(\"times_test.csv\")  # assuming tab-separated as per image\n",
    "\n",
    "# Ensure test is numeric\n",
    "df['test'] = pd.to_numeric(df['test'], errors='coerce')\n",
    "\n",
    "# Separate odd and even test numbers\n",
    "odd_tests = df[df['test'] % 2 == 1]\n",
    "even_tests = df[df['test'] % 2 == 0]\n",
    "\n",
    "# Compute averages\n",
    "odd_avg_baseline = odd_tests['timeBaseline'].mean()\n",
    "odd_avg_new = odd_tests['timeNew'].mean()\n",
    "even_avg_baseline = even_tests['timeBaseline'].mean()\n",
    "even_avg_new = even_tests['timeNew'].mean()\n",
    "\n",
    "# Compute ratios (new / baseline)\n",
    "odd_ratio = odd_avg_new / odd_avg_baseline if odd_avg_baseline != 0 else float('inf')\n",
    "even_ratio = even_avg_new / even_avg_baseline if even_avg_baseline != 0 else float('inf')\n",
    "\n",
    "print(\"Full threads (odd test IDs):\")\n",
    "print(f\"  Avg Baseline Time: {odd_avg_baseline}\")\n",
    "print(f\"  Avg New Time: {odd_avg_new}\")\n",
    "print(f\"  New/Baseline Ratio: {odd_ratio:.3f}\")\n",
    "\n",
    "print(\"\\nHalf threads (even test IDs):\")\n",
    "print(f\"  Avg Baseline Time: {even_avg_baseline}\")\n",
    "print(f\"  Avg New Time: {even_avg_new}\")\n",
    "print(f\"  New/Baseline Ratio: {even_ratio:.3f}\")\n",
    "\n"
   ]
  },
  {
   "cell_type": "code",
   "execution_count": 14,
   "id": "0498501f-532b-4f3c-bea3-8467d09f0ad2",
   "metadata": {},
   "outputs": [
    {
     "name": "stdout",
     "output_type": "stream",
     "text": [
      "Baseline CLPA:\n",
      "  Overall Avg Fitness = 38324.1110\n",
      "\n",
      "Parallel CLPA (min per test-run-epoch, averaged):\n",
      "  Full threads (odd test IDs): Avg Fitness = 34907.8778\n",
      "  Half threads (even test IDs): Avg Fitness = 35308.7586\n"
     ]
    }
   ],
   "source": [
    "import pandas as pd\n",
    "\n",
    "# Load the CSV files\n",
    "baseline_df = pd.read_csv(\"paper_CLPA.csv\")\n",
    "parallel_df = pd.read_csv(\"paper_CLPA_parallel.csv\")\n",
    "\n",
    "# Ensure 'test' is numeric\n",
    "baseline_df['test'] = pd.to_numeric(baseline_df['test'], errors='coerce')\n",
    "parallel_df['test'] = pd.to_numeric(parallel_df['test'], errors='coerce')\n",
    "\n",
    "# --- Baseline CLPA ---\n",
    "\n",
    "# Just take the average of all fitness values\n",
    "baseline_avg = baseline_df['fitness'].mean()\n",
    "\n",
    "# --- Parallel CLPA ---\n",
    "\n",
    "# Step 1: Get min fitness per (test, run, epoch) over repeated seeds\n",
    "parallel_min_per_epoch = parallel_df.groupby(['test', 'run', 'epoch'])['fitness'].min().reset_index()\n",
    "\n",
    "# Step 2: Split by thread configuration\n",
    "parallel_odd = parallel_min_per_epoch[parallel_min_per_epoch['test'] % 2 == 1]\n",
    "parallel_even = parallel_min_per_epoch[parallel_min_per_epoch['test'] % 2 == 0]\n",
    "\n",
    "# Step 3: Compute averages\n",
    "parallel_odd_avg = parallel_odd['fitness'].mean()\n",
    "parallel_even_avg = parallel_even['fitness'].mean()\n",
    "\n",
    "# --- Output results ---\n",
    "print(\"Baseline CLPA:\")\n",
    "print(f\"  Overall Avg Fitness = {baseline_avg:.4f}\")\n",
    "\n",
    "print(\"\\nParallel CLPA (min per test-run-epoch, averaged):\")\n",
    "print(f\"  Full threads (odd test IDs): Avg Fitness = {parallel_odd_avg:.4f}\")\n",
    "print(f\"  Half threads (even test IDs): Avg Fitness = {parallel_even_avg:.4f}\")\n"
   ]
  }
 ],
 "metadata": {
  "kernelspec": {
   "display_name": "Python 3 (ipykernel)",
   "language": "python",
   "name": "python3"
  },
  "language_info": {
   "codemirror_mode": {
    "name": "ipython",
    "version": 3
   },
   "file_extension": ".py",
   "mimetype": "text/x-python",
   "name": "python",
   "nbconvert_exporter": "python",
   "pygments_lexer": "ipython3",
   "version": "3.9.21"
  }
 },
 "nbformat": 4,
 "nbformat_minor": 5
}
